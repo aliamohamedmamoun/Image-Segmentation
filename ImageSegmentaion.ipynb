{
  "nbformat": 4,
  "nbformat_minor": 0,
  "metadata": {
    "colab": {
      "name": "ImageSegmentaion.ipynb",
      "version": "0.3.2",
      "provenance": []
    },
    "kernelspec": {
      "name": "python3",
      "display_name": "Python 3"
    }
  },
  "cells": [
    {
      "cell_type": "code",
      "metadata": {
        "id": "uXxbnYlk4vQD",
        "colab_type": "code",
        "colab": {}
      },
      "source": [
        "import numpy as np\n",
        "from zipfile import ZipFile\n",
        "from os import listdir\n",
        "from os.path import isfile, join\n",
        "import cv2\n",
        "import scipy.io\n",
        "from matplotlib import pyplot as plt \n",
        "from PIL import Image\n",
        "from sklearn import preprocessing\n",
        "from sklearn import cluster\n",
        "from sklearn import metrics\n",
        "from sklearn.metrics.cluster import v_measure_score\n",
        "from sklearn.cluster import SpectralClustering"
      ],
      "execution_count": 0,
      "outputs": []
    },
    {
      "cell_type": "code",
      "metadata": {
        "id": "sICT-Mvb5PoL",
        "colab_type": "code",
        "outputId": "1889e88d-5b9d-450e-e528-5a0f7856128f",
        "colab": {
          "base_uri": "https://localhost:8080/",
          "height": 694
        }
      },
      "source": [
        "# unzipping\n",
        "zip=ZipFile('BSR.zip')\n",
        "zip.extractall()\n",
        "zip.close()"
      ],
      "execution_count": 0,
      "outputs": [
        {
          "output_type": "error",
          "ename": "OSError",
          "evalue": "ignored",
          "traceback": [
            "\u001b[0;31m---------------------------------------------------------------------------\u001b[0m",
            "\u001b[0;31mOSError\u001b[0m                                   Traceback (most recent call last)",
            "\u001b[0;32m<ipython-input-21-3dc03e45d1a5>\u001b[0m in \u001b[0;36m<module>\u001b[0;34m()\u001b[0m\n\u001b[1;32m      1\u001b[0m \u001b[0mzip\u001b[0m\u001b[0;34m=\u001b[0m\u001b[0mZipFile\u001b[0m\u001b[0;34m(\u001b[0m\u001b[0;34m'BSR.zip'\u001b[0m\u001b[0;34m)\u001b[0m\u001b[0;34m\u001b[0m\u001b[0;34m\u001b[0m\u001b[0m\n\u001b[0;32m----> 2\u001b[0;31m \u001b[0mzip\u001b[0m\u001b[0;34m.\u001b[0m\u001b[0mextractall\u001b[0m\u001b[0;34m(\u001b[0m\u001b[0;34m)\u001b[0m\u001b[0;34m\u001b[0m\u001b[0;34m\u001b[0m\u001b[0m\n\u001b[0m\u001b[1;32m      3\u001b[0m \u001b[0mzip\u001b[0m\u001b[0;34m.\u001b[0m\u001b[0mclose\u001b[0m\u001b[0;34m(\u001b[0m\u001b[0;34m)\u001b[0m\u001b[0;34m\u001b[0m\u001b[0;34m\u001b[0m\u001b[0m\n",
            "\u001b[0;32m/usr/lib/python3.6/zipfile.py\u001b[0m in \u001b[0;36mextractall\u001b[0;34m(self, path, members, pwd)\u001b[0m\n\u001b[1;32m   1522\u001b[0m \u001b[0;34m\u001b[0m\u001b[0m\n\u001b[1;32m   1523\u001b[0m         \u001b[0;32mfor\u001b[0m \u001b[0mzipinfo\u001b[0m \u001b[0;32min\u001b[0m \u001b[0mmembers\u001b[0m\u001b[0;34m:\u001b[0m\u001b[0;34m\u001b[0m\u001b[0;34m\u001b[0m\u001b[0m\n\u001b[0;32m-> 1524\u001b[0;31m             \u001b[0mself\u001b[0m\u001b[0;34m.\u001b[0m\u001b[0m_extract_member\u001b[0m\u001b[0;34m(\u001b[0m\u001b[0mzipinfo\u001b[0m\u001b[0;34m,\u001b[0m \u001b[0mpath\u001b[0m\u001b[0;34m,\u001b[0m \u001b[0mpwd\u001b[0m\u001b[0;34m)\u001b[0m\u001b[0;34m\u001b[0m\u001b[0;34m\u001b[0m\u001b[0m\n\u001b[0m\u001b[1;32m   1525\u001b[0m \u001b[0;34m\u001b[0m\u001b[0m\n\u001b[1;32m   1526\u001b[0m     \u001b[0;34m@\u001b[0m\u001b[0mclassmethod\u001b[0m\u001b[0;34m\u001b[0m\u001b[0;34m\u001b[0m\u001b[0m\n",
            "\u001b[0;32m/usr/lib/python3.6/zipfile.py\u001b[0m in \u001b[0;36m_extract_member\u001b[0;34m(self, member, targetpath, pwd)\u001b[0m\n\u001b[1;32m   1575\u001b[0m             \u001b[0;32mreturn\u001b[0m \u001b[0mtargetpath\u001b[0m\u001b[0;34m\u001b[0m\u001b[0;34m\u001b[0m\u001b[0m\n\u001b[1;32m   1576\u001b[0m \u001b[0;34m\u001b[0m\u001b[0m\n\u001b[0;32m-> 1577\u001b[0;31m         \u001b[0;32mwith\u001b[0m \u001b[0mself\u001b[0m\u001b[0;34m.\u001b[0m\u001b[0mopen\u001b[0m\u001b[0;34m(\u001b[0m\u001b[0mmember\u001b[0m\u001b[0;34m,\u001b[0m \u001b[0mpwd\u001b[0m\u001b[0;34m=\u001b[0m\u001b[0mpwd\u001b[0m\u001b[0;34m)\u001b[0m \u001b[0;32mas\u001b[0m \u001b[0msource\u001b[0m\u001b[0;34m,\u001b[0m\u001b[0;31m \u001b[0m\u001b[0;31m\\\u001b[0m\u001b[0;34m\u001b[0m\u001b[0;34m\u001b[0m\u001b[0m\n\u001b[0m\u001b[1;32m   1578\u001b[0m              \u001b[0mopen\u001b[0m\u001b[0;34m(\u001b[0m\u001b[0mtargetpath\u001b[0m\u001b[0;34m,\u001b[0m \u001b[0;34m\"wb\"\u001b[0m\u001b[0;34m)\u001b[0m \u001b[0;32mas\u001b[0m \u001b[0mtarget\u001b[0m\u001b[0;34m:\u001b[0m\u001b[0;34m\u001b[0m\u001b[0;34m\u001b[0m\u001b[0m\n\u001b[1;32m   1579\u001b[0m             \u001b[0mshutil\u001b[0m\u001b[0;34m.\u001b[0m\u001b[0mcopyfileobj\u001b[0m\u001b[0;34m(\u001b[0m\u001b[0msource\u001b[0m\u001b[0;34m,\u001b[0m \u001b[0mtarget\u001b[0m\u001b[0;34m)\u001b[0m\u001b[0;34m\u001b[0m\u001b[0;34m\u001b[0m\u001b[0m\n",
            "\u001b[0;32m/usr/lib/python3.6/zipfile.py\u001b[0m in \u001b[0;36mopen\u001b[0;34m(self, name, mode, pwd, force_zip64)\u001b[0m\n\u001b[1;32m   1389\u001b[0m         \u001b[0;32mtry\u001b[0m\u001b[0;34m:\u001b[0m\u001b[0;34m\u001b[0m\u001b[0;34m\u001b[0m\u001b[0m\n\u001b[1;32m   1390\u001b[0m             \u001b[0;31m# Skip the file header:\u001b[0m\u001b[0;34m\u001b[0m\u001b[0;34m\u001b[0m\u001b[0;34m\u001b[0m\u001b[0m\n\u001b[0;32m-> 1391\u001b[0;31m             \u001b[0mfheader\u001b[0m \u001b[0;34m=\u001b[0m \u001b[0mzef_file\u001b[0m\u001b[0;34m.\u001b[0m\u001b[0mread\u001b[0m\u001b[0;34m(\u001b[0m\u001b[0msizeFileHeader\u001b[0m\u001b[0;34m)\u001b[0m\u001b[0;34m\u001b[0m\u001b[0;34m\u001b[0m\u001b[0m\n\u001b[0m\u001b[1;32m   1392\u001b[0m             \u001b[0;32mif\u001b[0m \u001b[0mlen\u001b[0m\u001b[0;34m(\u001b[0m\u001b[0mfheader\u001b[0m\u001b[0;34m)\u001b[0m \u001b[0;34m!=\u001b[0m \u001b[0msizeFileHeader\u001b[0m\u001b[0;34m:\u001b[0m\u001b[0;34m\u001b[0m\u001b[0;34m\u001b[0m\u001b[0m\n\u001b[1;32m   1393\u001b[0m                 \u001b[0;32mraise\u001b[0m \u001b[0mBadZipFile\u001b[0m\u001b[0;34m(\u001b[0m\u001b[0;34m\"Truncated file header\"\u001b[0m\u001b[0;34m)\u001b[0m\u001b[0;34m\u001b[0m\u001b[0;34m\u001b[0m\u001b[0m\n",
            "\u001b[0;32m/usr/lib/python3.6/zipfile.py\u001b[0m in \u001b[0;36mread\u001b[0;34m(self, n)\u001b[0m\n\u001b[1;32m    726\u001b[0m                         \u001b[0;34m\"is an open writing handle on it. \"\u001b[0m\u001b[0;34m\u001b[0m\u001b[0;34m\u001b[0m\u001b[0m\n\u001b[1;32m    727\u001b[0m                         \"Close the writing handle before trying to read.\")\n\u001b[0;32m--> 728\u001b[0;31m             \u001b[0mself\u001b[0m\u001b[0;34m.\u001b[0m\u001b[0m_file\u001b[0m\u001b[0;34m.\u001b[0m\u001b[0mseek\u001b[0m\u001b[0;34m(\u001b[0m\u001b[0mself\u001b[0m\u001b[0;34m.\u001b[0m\u001b[0m_pos\u001b[0m\u001b[0;34m)\u001b[0m\u001b[0;34m\u001b[0m\u001b[0;34m\u001b[0m\u001b[0m\n\u001b[0m\u001b[1;32m    729\u001b[0m             \u001b[0mdata\u001b[0m \u001b[0;34m=\u001b[0m \u001b[0mself\u001b[0m\u001b[0;34m.\u001b[0m\u001b[0m_file\u001b[0m\u001b[0;34m.\u001b[0m\u001b[0mread\u001b[0m\u001b[0;34m(\u001b[0m\u001b[0mn\u001b[0m\u001b[0;34m)\u001b[0m\u001b[0;34m\u001b[0m\u001b[0;34m\u001b[0m\u001b[0m\n\u001b[1;32m    730\u001b[0m             \u001b[0mself\u001b[0m\u001b[0;34m.\u001b[0m\u001b[0m_pos\u001b[0m \u001b[0;34m=\u001b[0m \u001b[0mself\u001b[0m\u001b[0;34m.\u001b[0m\u001b[0m_file\u001b[0m\u001b[0;34m.\u001b[0m\u001b[0mtell\u001b[0m\u001b[0;34m(\u001b[0m\u001b[0;34m)\u001b[0m\u001b[0;34m\u001b[0m\u001b[0;34m\u001b[0m\u001b[0m\n",
            "\u001b[0;31mOSError\u001b[0m: [Errno 22] Invalid argument"
          ]
        }
      ]
    },
    {
      "cell_type": "code",
      "metadata": {
        "id": "vm71kAfx5TRh",
        "colab_type": "code",
        "colab": {}
      },
      "source": [
        "# function reads matlab file and displays the groundtruth segmentations\n",
        "segmentations=[]\n",
        "def read_GroundTruth(img_path,gt_path):\n",
        "        #segmentations=[]\n",
        "        #img=plt.imread(img_path)                                          #reading image from img-path\n",
        "        #imgList.append(img)                                               #to create array of images\n",
        "        mat = scipy.io.loadmat(gt_path,appendmat=False)                     #load matlab file\n",
        "        groundTruth = mat.get('groundTruth')                                #get image\n",
        "        label_num = groundTruth.size\n",
        "        #print(groundTruth)\n",
        "        \n",
        "        #converting the matlab arrays to images\n",
        "        fig=plt.figure(figsize=(10,10))\n",
        "        for i in range(label_num):\n",
        "            boundary = groundTruth[0][i]['Segmentation'][0][0]\n",
        "            height = boundary.shape[0]\n",
        "            width = boundary.shape[1]\n",
        "            trueBoundary = boundary.reshape(height, width, 1)\n",
        "            segmentations.append(trueBoundary)\n",
        "            fig.add_subplot(5,5, i+1)\n",
        "            plt.imshow(trueBoundary[:,:,0])"
      ],
      "execution_count": 0,
      "outputs": []
    },
    {
      "cell_type": "code",
      "metadata": {
        "id": "J38u0lJZ5X2R",
        "colab_type": "code",
        "colab": {}
      },
      "source": [
        "#function that convert images to its RBG representation and apply Kmeans for clustering \n",
        "K_segmentations=[]\n",
        "def KMEANS(img):\n",
        "#convert image to 2D with M*3 dimensions\n",
        "        #img=np.array(img)\n",
        "        x, y, z = img.shape\n",
        "        image_2d = img.reshape(x*y, z)\n",
        "        image_2d.shape\n",
        "        \n",
        "        #Apply K-means on the 2D image\n",
        "        kmeans_cluster = cluster.KMeans(n_clusters=5)\n",
        "        kmeans_cluster.fit(image_2d)\n",
        "        cluster_centers = kmeans_cluster.cluster_centers_\n",
        "        cluster_labels = kmeans_cluster.labels_\n",
        "        print(\"de labels beta3et el kmeans\")\n",
        "        print(cluster_labels)\n",
        "        K_segmentations.append(cluster_labels)\n",
        "    #Convert back into uint8 and make an image\n",
        "        centers=np.array(cluster_centers)\n",
        "        labels=np.transpose(np.uint8(cluster_labels))\n",
        "        res=centers[labels]\n",
        "        res=res.reshape(x,y,z)\n",
        "        fig2 = plt.figure(3)\n",
        "        plt.imshow(res[:,:,0])\n",
        "        plt.show()\n",
        "\n"
      ],
      "execution_count": 0,
      "outputs": []
    },
    {
      "cell_type": "code",
      "metadata": {
        "id": "pE7m4fpF5coI",
        "colab_type": "code",
        "colab": {}
      },
      "source": [
        "#function to evaluate segmentations using F-measures and conditional Entropy\n",
        "def evaluate(boundary,pred_labels):\n",
        "    print(v_measure_score(boundary,pred_labels))"
      ],
      "execution_count": 0,
      "outputs": []
    },
    {
      "cell_type": "code",
      "metadata": {
        "id": "LX3HRn3D5lQS",
        "colab_type": "code",
        "colab": {}
      },
      "source": [
        "#normalized cut ussing 5-NN graph\n",
        "def Normalized_cut(img):\n",
        "        x, y, z = img.shape\n",
        "        image_2d = img.reshape(x*y, z)\n",
        "        image_2d.shape\n",
        "    \n",
        "        Norm_cut=SpectralClustering(n_clusters=5, eigen_solver=None, random_state=0,affinity='nearest_neighbors', n_neighbors=5).fit(image_2d)"
      ],
      "execution_count": 0,
      "outputs": []
    },
    {
      "cell_type": "code",
      "metadata": {
        "id": "KL1XlBBR5pwM",
        "colab_type": "code",
        "outputId": "ec0745bb-564e-48cc-ac1d-21ece90a08fb",
        "colab": {
          "base_uri": "https://localhost:8080/",
          "height": 312
        }
      },
      "source": [
        "#directories\n",
        "train_dir=\"/Users/geek/Desktop/BSR/BSDS500/data/images/train\"\n",
        "train_gt_dir= \"/Users/geek/Desktop/BSR/BSDS500/data/groundTruth/train\"\n",
        "test_dir=\"/Users/geek/Desktop/BSR/BSDS500/data/images/test\"\n",
        "test_gt_dir= \"/Users/geek/Desktop/BSR/BSDS500/data/groundTruth/test\"\n",
        "\n",
        "#generating images ang gt images directories\n",
        "img_files = [f for f in listdir(test_dir) if isfile(join(test_dir, f)) and f.endswith(\".jpg\")]\n",
        "gt_files = [f for f in listdir(test_gt_dir) if isfile(join(test_gt_dir, f)) and f.endswith(\".mat\")]\n",
        "\n",
        "#global variables\n",
        "segmentations=[]\n",
        "K_segmentations=[]\n",
        "#groundTruth_labels=[]\n",
        "\n",
        "#reading images and groundTruth\n",
        "\n",
        "for i in range(50):\n",
        "        print(\"Handling:   \" + gt_files[i] + \"   ====   \" + img_files[i])\n",
        "        img_path = \"/Users/geek/Desktop/BSR/BSDS500/data/images/test/\"+img_files[i]\n",
        "        gt_path = \"/Users/geek/Desktop/BSR/BSDS500/data/groundTruth/test/\" + gt_files[i]\n",
        "        img=plt.imread(img_path)                                          #reading image from img-path\n",
        "        #imgList.append(img) \n",
        "        fig1=plt.figure(1)\n",
        "        plt.imshow(img)\n",
        "        plt.show()\n",
        "        read_GroundTruth(img_path,gt_path)     #to display  ground truth\n",
        "        #ba fasfafhaaa\n",
        "        s=np.array(segmentations)\n",
        "        n=s.shape\n",
        "        noOfsegmentations=n[0]\n",
        "        x=n[1]\n",
        "        y=n[2]\n",
        "        z=n[3]\n",
        "         #x, y, z = img.shape\n",
        "        #image_2d = img.reshape(x*y, z)\n",
        "        #image_2d.shape\n",
        "        print(n)\n",
        "        fig=plt.figure(figsize=(10,10))\n",
        "       # KMEANS(img)                           #for clustering\n",
        "        Normalized_cut(img)\n",
        "        pred_labels=np.array(K_segmentations)\n",
        "        pred_labels=pred_labels.flatten()\n",
        "        print(pred_labels.shape)\n",
        "        #converting the groundTruth segmentations to 1d labels to perform the evaluations\n",
        "        for j in range(noOfsegmentations):\n",
        "            boundary = s[j].reshape(x*y,z)\n",
        "            boundary=boundary.flatten()\n",
        "            evaluate(boundary,pred_labels)    # evaluation\n",
        "            print(\"de labels beta3et el ground truth\")\n",
        "            print(boundary)\n",
        "            #print(trueBoundary.shape)\n",
        "        \n",
        "        \n",
        "        break\n",
        "\n"
      ],
      "execution_count": 0,
      "outputs": [
        {
          "output_type": "error",
          "ename": "FileNotFoundError",
          "evalue": "ignored",
          "traceback": [
            "\u001b[0;31m---------------------------------------------------------------------------\u001b[0m",
            "\u001b[0;31mFileNotFoundError\u001b[0m                         Traceback (most recent call last)",
            "\u001b[0;32m<ipython-input-19-22ec62b377af>\u001b[0m in \u001b[0;36m<module>\u001b[0;34m()\u001b[0m\n\u001b[1;32m      5\u001b[0m \u001b[0;34m\u001b[0m\u001b[0m\n\u001b[1;32m      6\u001b[0m \u001b[0;31m#generating images ang gt images directories\u001b[0m\u001b[0;34m\u001b[0m\u001b[0;34m\u001b[0m\u001b[0;34m\u001b[0m\u001b[0m\n\u001b[0;32m----> 7\u001b[0;31m \u001b[0mimg_files\u001b[0m \u001b[0;34m=\u001b[0m \u001b[0;34m[\u001b[0m\u001b[0mf\u001b[0m \u001b[0;32mfor\u001b[0m \u001b[0mf\u001b[0m \u001b[0;32min\u001b[0m \u001b[0mlistdir\u001b[0m\u001b[0;34m(\u001b[0m\u001b[0mtest_dir\u001b[0m\u001b[0;34m)\u001b[0m \u001b[0;32mif\u001b[0m \u001b[0misfile\u001b[0m\u001b[0;34m(\u001b[0m\u001b[0mjoin\u001b[0m\u001b[0;34m(\u001b[0m\u001b[0mtest_dir\u001b[0m\u001b[0;34m,\u001b[0m \u001b[0mf\u001b[0m\u001b[0;34m)\u001b[0m\u001b[0;34m)\u001b[0m \u001b[0;32mand\u001b[0m \u001b[0mf\u001b[0m\u001b[0;34m.\u001b[0m\u001b[0mendswith\u001b[0m\u001b[0;34m(\u001b[0m\u001b[0;34m\".jpg\"\u001b[0m\u001b[0;34m)\u001b[0m\u001b[0;34m]\u001b[0m\u001b[0;34m\u001b[0m\u001b[0;34m\u001b[0m\u001b[0m\n\u001b[0m\u001b[1;32m      8\u001b[0m \u001b[0mgt_files\u001b[0m \u001b[0;34m=\u001b[0m \u001b[0;34m[\u001b[0m\u001b[0mf\u001b[0m \u001b[0;32mfor\u001b[0m \u001b[0mf\u001b[0m \u001b[0;32min\u001b[0m \u001b[0mlistdir\u001b[0m\u001b[0;34m(\u001b[0m\u001b[0mtest_gt_dir\u001b[0m\u001b[0;34m)\u001b[0m \u001b[0;32mif\u001b[0m \u001b[0misfile\u001b[0m\u001b[0;34m(\u001b[0m\u001b[0mjoin\u001b[0m\u001b[0;34m(\u001b[0m\u001b[0mtest_gt_dir\u001b[0m\u001b[0;34m,\u001b[0m \u001b[0mf\u001b[0m\u001b[0;34m)\u001b[0m\u001b[0;34m)\u001b[0m \u001b[0;32mand\u001b[0m \u001b[0mf\u001b[0m\u001b[0;34m.\u001b[0m\u001b[0mendswith\u001b[0m\u001b[0;34m(\u001b[0m\u001b[0;34m\".mat\"\u001b[0m\u001b[0;34m)\u001b[0m\u001b[0;34m]\u001b[0m\u001b[0;34m\u001b[0m\u001b[0;34m\u001b[0m\u001b[0m\n\u001b[1;32m      9\u001b[0m \u001b[0;34m\u001b[0m\u001b[0m\n",
            "\u001b[0;31mFileNotFoundError\u001b[0m: [Errno 2] No such file or directory: '..data/images/test'"
          ]
        }
      ]
    }
  ]
}